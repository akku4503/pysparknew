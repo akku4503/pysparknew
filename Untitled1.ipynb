{
  "nbformat": 4,
  "nbformat_minor": 0,
  "metadata": {
    "colab": {
      "provenance": [],
      "authorship_tag": "ABX9TyN/ReJjDphh7YcKT9wggd+n",
      "include_colab_link": true
    },
    "kernelspec": {
      "name": "python3",
      "display_name": "Python 3"
    },
    "language_info": {
      "name": "python"
    }
  },
  "cells": [
    {
      "cell_type": "markdown",
      "metadata": {
        "id": "view-in-github",
        "colab_type": "text"
      },
      "source": [
        "<a href=\"https://colab.research.google.com/github/akku4503/pysparknew/blob/main/Untitled1.ipynb\" target=\"_parent\"><img src=\"https://colab.research.google.com/assets/colab-badge.svg\" alt=\"Open In Colab\"/></a>"
      ]
    },
    {
      "cell_type": "code",
      "execution_count": null,
      "metadata": {
        "colab": {
          "base_uri": "https://localhost:8080/"
        },
        "id": "pf4V_d1WcdMW",
        "outputId": "db16239f-8002-4b91-c404-1463a2725a7d"
      },
      "outputs": [
        {
          "output_type": "stream",
          "name": "stdout",
          "text": [
            "hello World\n"
          ]
        }
      ],
      "source": [
        "print(\"hello World\")"
      ]
    },
    {
      "cell_type": "markdown",
      "source": [
        "## linux basic"
      ],
      "metadata": {
        "id": "g-Y14ZYArLca"
      }
    },
    {
      "cell_type": "markdown",
      "source": [],
      "metadata": {
        "id": "lFT01qeYJ8Ty"
      }
    },
    {
      "cell_type": "code",
      "source": [
        "!cat /etc/os-release"
      ],
      "metadata": {
        "colab": {
          "base_uri": "https://localhost:8080/"
        },
        "id": "UOo-gA7uqQHk",
        "outputId": "209f4d9f-0910-4fd8-c717-8a77b8c4c859"
      },
      "execution_count": null,
      "outputs": [
        {
          "output_type": "stream",
          "name": "stdout",
          "text": [
            "PRETTY_NAME=\"Ubuntu 22.04.4 LTS\"\n",
            "NAME=\"Ubuntu\"\n",
            "VERSION_ID=\"22.04\"\n",
            "VERSION=\"22.04.4 LTS (Jammy Jellyfish)\"\n",
            "VERSION_CODENAME=jammy\n",
            "ID=ubuntu\n",
            "ID_LIKE=debian\n",
            "HOME_URL=\"https://www.ubuntu.com/\"\n",
            "SUPPORT_URL=\"https://help.ubuntu.com/\"\n",
            "BUG_REPORT_URL=\"https://bugs.launchpad.net/ubuntu/\"\n",
            "PRIVACY_POLICY_URL=\"https://www.ubuntu.com/legal/terms-and-policies/privacy-policy\"\n",
            "UBUNTU_CODENAME=jammy\n"
          ]
        }
      ]
    },
    {
      "cell_type": "code",
      "source": [
        "!whoami"
      ],
      "metadata": {
        "colab": {
          "base_uri": "https://localhost:8080/"
        },
        "id": "zjj7imoEdbNH",
        "outputId": "0e0a8d45-8d24-4608-a670-3ca2852aa9d8"
      },
      "execution_count": null,
      "outputs": [
        {
          "output_type": "stream",
          "name": "stdout",
          "text": [
            "root\n"
          ]
        }
      ]
    },
    {
      "cell_type": "code",
      "source": [
        "!pwd"
      ],
      "metadata": {
        "colab": {
          "base_uri": "https://localhost:8080/"
        },
        "id": "UcVa4iC0quvO",
        "outputId": "dd78729a-bf53-45d4-e097-999d1a0fb0a6"
      },
      "execution_count": null,
      "outputs": [
        {
          "output_type": "stream",
          "name": "stdout",
          "text": [
            "/content\n"
          ]
        }
      ]
    },
    {
      "cell_type": "markdown",
      "source": [],
      "metadata": {
        "id": "L_fvgBqtqJbC"
      }
    },
    {
      "cell_type": "code",
      "source": [],
      "metadata": {
        "id": "r9DhWY55rGpL"
      },
      "execution_count": null,
      "outputs": []
    },
    {
      "cell_type": "markdown",
      "source": [
        "spark session"
      ],
      "metadata": {
        "id": "8efIT9K0v8ll"
      }
    },
    {
      "cell_type": "code",
      "source": [],
      "metadata": {
        "id": "QGhnEXTwv8Ei"
      },
      "execution_count": null,
      "outputs": []
    },
    {
      "cell_type": "code",
      "source": [
        "!pip install pyspark"
      ],
      "metadata": {
        "colab": {
          "base_uri": "https://localhost:8080/"
        },
        "id": "nEheKPqirUTg",
        "outputId": "b43c4221-7b5d-4ad9-ba0d-dfe1095f9bdd"
      },
      "execution_count": null,
      "outputs": [
        {
          "output_type": "stream",
          "name": "stdout",
          "text": [
            "Requirement already satisfied: pyspark in /usr/local/lib/python3.11/dist-packages (3.5.1)\n",
            "Requirement already satisfied: py4j==0.10.9.7 in /usr/local/lib/python3.11/dist-packages (from pyspark) (0.10.9.7)\n"
          ]
        }
      ]
    },
    {
      "cell_type": "code",
      "source": [
        "!pip show pyspark"
      ],
      "metadata": {
        "colab": {
          "base_uri": "https://localhost:8080/"
        },
        "id": "jervNnRkuGuS",
        "outputId": "6718b9a2-da34-4be1-83da-5fd00e065ed5"
      },
      "execution_count": null,
      "outputs": [
        {
          "output_type": "stream",
          "name": "stdout",
          "text": [
            "Name: pyspark\n",
            "Version: 3.5.1\n",
            "Summary: Apache Spark Python API\n",
            "Home-page: https://github.com/apache/spark/tree/master/python\n",
            "Author: Spark Developers\n",
            "Author-email: dev@spark.apache.org\n",
            "License: http://www.apache.org/licenses/LICENSE-2.0\n",
            "Location: /usr/local/lib/python3.11/dist-packages\n",
            "Requires: py4j\n",
            "Required-by: dataproc-spark-connect\n"
          ]
        }
      ]
    },
    {
      "cell_type": "code",
      "source": [
        "!pyspark --version"
      ],
      "metadata": {
        "colab": {
          "base_uri": "https://localhost:8080/"
        },
        "id": "z2hcIsghuPW_",
        "outputId": "25f575a1-d77f-43d0-9932-e191b9c2f68f"
      },
      "execution_count": null,
      "outputs": [
        {
          "output_type": "stream",
          "name": "stdout",
          "text": [
            "Welcome to\n",
            "      ____              __\n",
            "     / __/__  ___ _____/ /__\n",
            "    _\\ \\/ _ \\/ _ `/ __/  '_/\n",
            "   /___/ .__/\\_,_/_/ /_/\\_\\   version 3.5.1\n",
            "      /_/\n",
            "                        \n",
            "Using Scala version 2.12.18, OpenJDK 64-Bit Server VM, 11.0.27\n",
            "Branch HEAD\n",
            "Compiled by user heartsavior on 2024-02-15T11:24:58Z\n",
            "Revision fd86f85e181fc2dc0f50a096855acf83a6cc5d9c\n",
            "Url https://github.com/apache/spark\n",
            "Type --help for more information.\n"
          ]
        }
      ]
    },
    {
      "cell_type": "code",
      "source": [
        "!from pyspark.sql import sparkSession\n"
      ],
      "metadata": {
        "colab": {
          "base_uri": "https://localhost:8080/"
        },
        "id": "cISnASMIuWCo",
        "outputId": "2526a55d-e49e-4a4b-c65f-37145d816364"
      },
      "execution_count": null,
      "outputs": [
        {
          "output_type": "stream",
          "name": "stdout",
          "text": [
            "/bin/bash: line 1: from: command not found\n"
          ]
        }
      ]
    },
    {
      "cell_type": "code",
      "source": [
        "from pyspark.sql import SparkSession"
      ],
      "metadata": {
        "id": "Rfgih998uwgM"
      },
      "execution_count": null,
      "outputs": []
    },
    {
      "cell_type": "code",
      "source": [
        "spark = SparkSession.builder.appName(\"Basics\").getOrCreate()"
      ],
      "metadata": {
        "id": "jd7NlKb8u6ry"
      },
      "execution_count": null,
      "outputs": []
    },
    {
      "cell_type": "code",
      "source": [
        "# Create dataframe\n",
        "data = [(\"Hello\", \"World\")]\n",
        "columns = [\"Word1\", \"Word2\"]\n",
        "df = spark.createDataFrame(data, columns)"
      ],
      "metadata": {
        "id": "YF7ZZiuAvSvI"
      },
      "execution_count": null,
      "outputs": []
    },
    {
      "cell_type": "code",
      "source": [
        "df.show()"
      ],
      "metadata": {
        "colab": {
          "base_uri": "https://localhost:8080/"
        },
        "id": "3jl0EAi0vrrV",
        "outputId": "bb1cfb11-234a-40aa-ff36-6657be76ab0b"
      },
      "execution_count": null,
      "outputs": [
        {
          "output_type": "stream",
          "name": "stdout",
          "text": [
            "+-----+-----+\n",
            "|Word1|Word2|\n",
            "+-----+-----+\n",
            "|Hello|World|\n",
            "+-----+-----+\n",
            "\n"
          ]
        }
      ]
    },
    {
      "cell_type": "markdown",
      "source": [
        "Basic Transformation and Actions"
      ],
      "metadata": {
        "id": "Ep-E0sgEwYv3"
      }
    },
    {
      "cell_type": "code",
      "source": [
        "columns = [\"Name\",\"Department\",\"Salary\"]\n",
        "data = [\n",
        "    (\"John\", \"Sales\", 3000),\n",
        "    (\"Jane\", \"Finance\", 4000),\n",
        "    (\"Mike\", \"Sales\", 3500),\n",
        "    (\"Alice\", \"Finance\", 3800),\n",
        "    (\"Bob\", \"IT\", 4500)\n",
        "]\n",
        "df = spark.createDataFrame(data,columns)\n",
        "df.show()"
      ],
      "metadata": {
        "colab": {
          "base_uri": "https://localhost:8080/"
        },
        "id": "EgsxRDhMxa5O",
        "outputId": "d95beeb0-9f7b-413d-dbb2-880a6811b618"
      },
      "execution_count": null,
      "outputs": [
        {
          "output_type": "stream",
          "name": "stdout",
          "text": [
            "+-----+----------+------+\n",
            "| Name|Department|Salary|\n",
            "+-----+----------+------+\n",
            "| John|     Sales|  3000|\n",
            "| Jane|   Finance|  4000|\n",
            "| Mike|     Sales|  3500|\n",
            "|Alice|   Finance|  3800|\n",
            "|  Bob|        IT|  4500|\n",
            "+-----+----------+------+\n",
            "\n"
          ]
        }
      ]
    },
    {
      "cell_type": "code",
      "source": [
        "# Filter: Employees with salary > 3500\n",
        "df_filtered = df.filter(df.Salary > 3500)\n",
        "df_filtered.show()"
      ],
      "metadata": {
        "colab": {
          "base_uri": "https://localhost:8080/"
        },
        "id": "qZAbAE0Kxgc3",
        "outputId": "1061bc00-2424-41bb-d15e-b5783123acbb"
      },
      "execution_count": null,
      "outputs": [
        {
          "output_type": "stream",
          "name": "stdout",
          "text": [
            "+-----+----------+------+\n",
            "| Name|Department|Salary|\n",
            "+-----+----------+------+\n",
            "| Jane|   Finance|  4000|\n",
            "|Alice|   Finance|  3800|\n",
            "|  Bob|        IT|  4500|\n",
            "+-----+----------+------+\n",
            "\n"
          ]
        }
      ]
    },
    {
      "cell_type": "code",
      "source": [
        "df_filtered = df.groupBy(\"Department\").avg(\"Salary\")\n",
        "df_filtered.show()"
      ],
      "metadata": {
        "colab": {
          "base_uri": "https://localhost:8080/"
        },
        "id": "Bu-8tk_wyQgD",
        "outputId": "4c6a5b7d-abca-4109-c6fa-f80f6e83d0c4"
      },
      "execution_count": null,
      "outputs": [
        {
          "output_type": "stream",
          "name": "stdout",
          "text": [
            "+----------+-----------+\n",
            "|Department|avg(Salary)|\n",
            "+----------+-----------+\n",
            "|     Sales|     3250.0|\n",
            "|   Finance|     3900.0|\n",
            "|        IT|     4500.0|\n",
            "+----------+-----------+\n",
            "\n"
          ]
        }
      ]
    },
    {
      "cell_type": "code",
      "source": [
        "# add a new column : salary with bouns (10%)\n",
        "from pyspark.sql.functions import col\n",
        "exp=col(\"Salary\")*1.1\n",
        "df_with_bouns = df.withColumn(\"Salary_10%_Bouns\",exp)\n",
        "df_with_bouns.show()"
      ],
      "metadata": {
        "colab": {
          "base_uri": "https://localhost:8080/"
        },
        "id": "smdKOvYCy10w",
        "outputId": "041f5004-61ef-4eb8-f8cc-7ff2d782c46a"
      },
      "execution_count": null,
      "outputs": [
        {
          "output_type": "stream",
          "name": "stdout",
          "text": [
            "+-----+----------+------+------------------+\n",
            "| Name|Department|Salary|  Salary_10%_Bouns|\n",
            "+-----+----------+------+------------------+\n",
            "| John|     Sales|  3000|3300.0000000000005|\n",
            "| Jane|   Finance|  4000|            4400.0|\n",
            "| Mike|     Sales|  3500|3850.0000000000005|\n",
            "|Alice|   Finance|  3800|            4180.0|\n",
            "|  Bob|        IT|  4500|            4950.0|\n",
            "+-----+----------+------+------------------+\n",
            "\n"
          ]
        }
      ]
    },
    {
      "cell_type": "code",
      "source": [
        "from pyspark.sql.functions import col,upper, lower, concat_ws,length,when\n",
        "\n",
        "df.show()"
      ],
      "metadata": {
        "colab": {
          "base_uri": "https://localhost:8080/"
        },
        "id": "nJUFQ2gH05js",
        "outputId": "3133ac5f-f670-4f3b-f9dd-1f2462fe0b10"
      },
      "execution_count": null,
      "outputs": [
        {
          "output_type": "stream",
          "name": "stdout",
          "text": [
            "+-----+----------+------+\n",
            "| Name|Department|Salary|\n",
            "+-----+----------+------+\n",
            "| John|     Sales|  3000|\n",
            "| Jane|   Finance|  4000|\n",
            "| Mike|     Sales|  3500|\n",
            "|Alice|   Finance|  3800|\n",
            "|  Bob|        IT|  4500|\n",
            "+-----+----------+------+\n",
            "\n"
          ]
        }
      ]
    },
    {
      "cell_type": "code",
      "source": [
        "df_upper = df.withColumn(\"Name_upper\",upper(col(\"Name\")))\n",
        "df_lower = df.withColumn(\"Name_lower\",lower(col(\"Name\")))\n",
        "df_upper.show()\n",
        "df_lower.show()"
      ],
      "metadata": {
        "colab": {
          "base_uri": "https://localhost:8080/"
        },
        "id": "BPCXfBAg2Mmm",
        "outputId": "8be2f8f1-268e-434d-8ff3-bd138fb99d5c"
      },
      "execution_count": null,
      "outputs": [
        {
          "output_type": "stream",
          "name": "stdout",
          "text": [
            "+-----+----------+------+----------+\n",
            "| Name|Department|Salary|Name_upper|\n",
            "+-----+----------+------+----------+\n",
            "| John|     Sales|  3000|      JOHN|\n",
            "| Jane|   Finance|  4000|      JANE|\n",
            "| Mike|     Sales|  3500|      MIKE|\n",
            "|Alice|   Finance|  3800|     ALICE|\n",
            "|  Bob|        IT|  4500|       BOB|\n",
            "+-----+----------+------+----------+\n",
            "\n",
            "+-----+----------+------+----------+\n",
            "| Name|Department|Salary|Name_lower|\n",
            "+-----+----------+------+----------+\n",
            "| John|     Sales|  3000|      john|\n",
            "| Jane|   Finance|  4000|      jane|\n",
            "| Mike|     Sales|  3500|      mike|\n",
            "|Alice|   Finance|  3800|     alice|\n",
            "|  Bob|        IT|  4500|       bob|\n",
            "+-----+----------+------+----------+\n",
            "\n"
          ]
        }
      ]
    },
    {
      "cell_type": "code",
      "source": [
        "#concatenate colomns\n",
        "df = df.withColumn(\"Status\",\n",
        "        when(col(\"Salary\") >= 50000, \"High\")\n",
        "       .when((col(\"Salary\") >= 30000) & (col(\"Salary\") < 50000), \"Medium\")\n",
        "       .otherwise(\"Low\")\n",
        ")\n",
        "df.show()\n"
      ],
      "metadata": {
        "colab": {
          "base_uri": "https://localhost:8080/"
        },
        "id": "5J9syqTo26Bk",
        "outputId": "8ffa13c0-df75-4794-9113-5d8ad6fe1aea"
      },
      "execution_count": null,
      "outputs": [
        {
          "output_type": "stream",
          "name": "stdout",
          "text": [
            "+-----+----------+------+-------------+\n",
            "| Name|Department|Salary|    full_info|\n",
            "+-----+----------+------+-------------+\n",
            "| John|     Sales|  3000|   John_Sales|\n",
            "| Jane|   Finance|  4000| Jane_Finance|\n",
            "| Mike|     Sales|  3500|   Mike_Sales|\n",
            "|Alice|   Finance|  3800|Alice_Finance|\n",
            "|  Bob|        IT|  4500|       Bob_IT|\n",
            "+-----+----------+------+-------------+\n",
            "\n"
          ]
        }
      ]
    },
    {
      "cell_type": "code",
      "source": [
        "# String length of Names in New DF\n",
        "df_length = df.withColumn(\"Name_Length\", length(col(\"Name\")))\n",
        "df_length.show()"
      ],
      "metadata": {
        "colab": {
          "base_uri": "https://localhost:8080/"
        },
        "id": "sUxHjlY43iZc",
        "outputId": "2eba2451-8946-4adc-cd14-0aeffcb05d6d"
      },
      "execution_count": null,
      "outputs": [
        {
          "output_type": "stream",
          "name": "stdout",
          "text": [
            "+-----+----------+------+-----------+\n",
            "| Name|Department|Salary|Name_Length|\n",
            "+-----+----------+------+-----------+\n",
            "| John|     Sales|  3000|          4|\n",
            "| Jane|   Finance|  4000|          4|\n",
            "| Mike|     Sales|  3500|          4|\n",
            "|Alice|   Finance|  3800|          5|\n",
            "|  Bob|        IT|  4500|          3|\n",
            "+-----+----------+------+-----------+\n",
            "\n"
          ]
        }
      ]
    },
    {
      "cell_type": "code",
      "source": [
        "# condtionalcolums (salary, cateoery)\n",
        "df = df.withColumn(\"Status\",\n",
        "        when(col(\"Salary\") >= 50000, \"High\")\n",
        "       .when((col(\"Salary\") >= 30000) & (col(\"Salary\") < 50000), \"Medium\")\n",
        "       .otherwise(\"Low\")\n",
        ")\n",
        "df.show()"
      ],
      "metadata": {
        "colab": {
          "base_uri": "https://localhost:8080/"
        },
        "id": "cDLNRV8h5LJS",
        "outputId": "c3ae9b2c-1393-4a43-c089-5ea8f72da8be"
      },
      "execution_count": null,
      "outputs": [
        {
          "output_type": "stream",
          "name": "stdout",
          "text": [
            "+-----+----------+------+------+\n",
            "| Name|Department|Salary|Status|\n",
            "+-----+----------+------+------+\n",
            "| John|     Sales|  3000|   Low|\n",
            "| Jane|   Finance|  4000|   Low|\n",
            "| Mike|     Sales|  3500|   Low|\n",
            "|Alice|   Finance|  3800|   Low|\n",
            "|  Bob|        IT|  4500|   Low|\n",
            "+-----+----------+------+------+\n",
            "\n"
          ]
        }
      ]
    },
    {
      "cell_type": "code",
      "source": [
        "df = df.withColumnRenamed(\"Salary\", \"Base_Salary\")\n",
        "df.show()"
      ],
      "metadata": {
        "colab": {
          "base_uri": "https://localhost:8080/"
        },
        "id": "1ejXshJV5dp5",
        "outputId": "c5625791-3a6b-4d7e-c97e-df439d423d92"
      },
      "execution_count": null,
      "outputs": [
        {
          "output_type": "stream",
          "name": "stdout",
          "text": [
            "+-----+----------+-----------+------+\n",
            "| Name|Department|Base_Salary|Status|\n",
            "+-----+----------+-----------+------+\n",
            "| John|     Sales|       3000|   Low|\n",
            "| Jane|   Finance|       4000|   Low|\n",
            "| Mike|     Sales|       3500|   Low|\n",
            "|Alice|   Finance|       3800|   Low|\n",
            "|  Bob|        IT|       4500|   Low|\n",
            "+-----+----------+-----------+------+\n",
            "\n"
          ]
        }
      ]
    },
    {
      "cell_type": "markdown",
      "source": [
        "Advance level Transpotation and Action"
      ],
      "metadata": {
        "id": "dZ2BqIDUN6Tm"
      }
    },
    {
      "cell_type": "code",
      "source": [
        "df = df.withColumnRenamed(\"Salary\", \"Base_Salary\")\n",
        "df.show()"
      ],
      "metadata": {
        "colab": {
          "base_uri": "https://localhost:8080/"
        },
        "id": "oab01SSJ7Eyq",
        "outputId": "39c32799-bd82-4b3e-c28d-c38b330fa8ca"
      },
      "execution_count": null,
      "outputs": [
        {
          "output_type": "stream",
          "name": "stdout",
          "text": [
            "+-----+----------+-----------+------+\n",
            "| Name|Department|Base_Salary|Status|\n",
            "+-----+----------+-----------+------+\n",
            "| John|     Sales|       3000|   Low|\n",
            "| Jane|   Finance|       4000|   Low|\n",
            "| Mike|     Sales|       3500|   Low|\n",
            "|Alice|   Finance|       3800|   Low|\n",
            "|  Bob|        IT|       4500|   Low|\n",
            "+-----+----------+-----------+------+\n",
            "\n"
          ]
        }
      ]
    },
    {
      "cell_type": "code",
      "source": [
        "from pyspark.sql import SparkSession\n",
        "spark =SparkSession.builder.appName(\"Basics\").getOrCreate()\n",
        "columns = [\"Name\",\"Department\",\"Salary\"]\n",
        "data = [\n",
        "    (\"John\", \"Sales\", 3000),\n",
        "    (\"Jane\", \"Finance\", 4000),\n",
        "    (\"Mike\", \"Sales\", 3500),\n",
        "    (\"Alice\", \"Finance\", 3800),\n",
        "    (\"Bob\", \"IT\", 4500)\n",
        "]\n",
        "\n",
        "df = spark.createDataFrame(data, columns)"
      ],
      "metadata": {
        "id": "fZ4DjMxTPBTm"
      },
      "execution_count": null,
      "outputs": []
    },
    {
      "cell_type": "code",
      "source": [
        "\n",
        "\n",
        "df.show()"
      ],
      "metadata": {
        "colab": {
          "base_uri": "https://localhost:8080/"
        },
        "id": "1fVZFqUmPRNL",
        "outputId": "76e8874b-2f2f-4919-f363-d5e5379837f3"
      },
      "execution_count": null,
      "outputs": [
        {
          "output_type": "stream",
          "name": "stdout",
          "text": [
            "+-----+----------+------+\n",
            "| Name|Department|Salary|\n",
            "+-----+----------+------+\n",
            "| John|     Sales|  3000|\n",
            "| Jane|   Finance|  4000|\n",
            "| Mike|     Sales|  3500|\n",
            "|Alice|   Finance|  3800|\n",
            "|  Bob|        IT|  4500|\n",
            "+-----+----------+------+\n",
            "\n"
          ]
        }
      ]
    },
    {
      "cell_type": "code",
      "source": [
        "df.groupBy(\"Department\").count().show()"
      ],
      "metadata": {
        "colab": {
          "base_uri": "https://localhost:8080/"
        },
        "id": "hMO_AKPxPcTW",
        "outputId": "e15b2705-a7ae-4989-8bcd-7a3d66e88477"
      },
      "execution_count": null,
      "outputs": [
        {
          "output_type": "stream",
          "name": "stdout",
          "text": [
            "+----------+-----+\n",
            "|Department|count|\n",
            "+----------+-----+\n",
            "|     Sales|    2|\n",
            "|   Finance|    2|\n",
            "|        IT|    1|\n",
            "+----------+-----+\n",
            "\n"
          ]
        }
      ]
    },
    {
      "cell_type": "code",
      "source": [
        "df.groupBy(\"Department\").avg(\"Salary\").show()"
      ],
      "metadata": {
        "colab": {
          "base_uri": "https://localhost:8080/"
        },
        "id": "Z5tSCWsUPf3f",
        "outputId": "441aa680-d4a6-43e5-8570-e8ef8aebc804"
      },
      "execution_count": null,
      "outputs": [
        {
          "output_type": "stream",
          "name": "stdout",
          "text": [
            "+----------+-----------+\n",
            "|Department|avg(Salary)|\n",
            "+----------+-----------+\n",
            "|     Sales|     3250.0|\n",
            "|   Finance|     3900.0|\n",
            "|        IT|     4500.0|\n",
            "+----------+-----------+\n",
            "\n"
          ]
        }
      ]
    },
    {
      "cell_type": "code",
      "source": [
        "from pyspark.sql.functions import avg, max, min, sum, count\n"
      ],
      "metadata": {
        "id": "srthLS9mP_XW"
      },
      "execution_count": null,
      "outputs": []
    },
    {
      "cell_type": "code",
      "source": [
        "df.groupBy(\"Department\").agg(\n",
        "    avg(\"Salary\").alias(\"avg_salary\"),\n",
        "    max(\"Salary\").alias(\"max_salary\"),\n",
        "    min(\"Salary\").alias(\"min_salary\"),\n",
        "    sum(\"Salary\").alias(\"total_salary\"),\n",
        "    count(\"*\").alias(\"employee_count\")\n",
        ").show()\n"
      ],
      "metadata": {
        "colab": {
          "base_uri": "https://localhost:8080/"
        },
        "id": "nf1hriMAQNAQ",
        "outputId": "14f257b5-cde0-4c24-9baa-ea4e454bef21"
      },
      "execution_count": null,
      "outputs": [
        {
          "output_type": "stream",
          "name": "stdout",
          "text": [
            "+----------+----------+----------+----------+------------+--------------+\n",
            "|Department|avg_salary|max_salary|min_salary|total_salary|employee_count|\n",
            "+----------+----------+----------+----------+------------+--------------+\n",
            "|     Sales|    3250.0|      3500|      3000|        6500|             2|\n",
            "|   Finance|    3900.0|      4000|      3800|        7800|             2|\n",
            "|        IT|    4500.0|      4500|      4500|        4500|             1|\n",
            "+----------+----------+----------+----------+------------+--------------+\n",
            "\n"
          ]
        }
      ]
    },
    {
      "cell_type": "code",
      "source": [
        "df.groupBy(\"Department\").agg(\n",
        "    avg(\"Salary\").alias(\"avg_salary\"),\n",
        "    max(\"Salary\").alias(\"max_salary\"),\n",
        "    min(\"Salary\").alias(\"min_salary\"),\n",
        "\n",
        ").show()\n"
      ],
      "metadata": {
        "colab": {
          "base_uri": "https://localhost:8080/"
        },
        "id": "gAv0FZjNQQkg",
        "outputId": "1cd3d055-6c97-4cef-8d89-2068507ec4aa"
      },
      "execution_count": null,
      "outputs": [
        {
          "output_type": "stream",
          "name": "stdout",
          "text": [
            "+----------+----------+----------+----------+\n",
            "|Department|avg_salary|max_salary|min_salary|\n",
            "+----------+----------+----------+----------+\n",
            "|     Sales|    3250.0|      3500|      3000|\n",
            "|   Finance|    3900.0|      4000|      3800|\n",
            "|        IT|    4500.0|      4500|      4500|\n",
            "+----------+----------+----------+----------+\n",
            "\n"
          ]
        }
      ]
    },
    {
      "cell_type": "code",
      "source": [
        "# Create another DataFrame for department info\n",
        "dept_data = [\n",
        "    (\"Sales\", \"Building A\"),\n",
        "    (\"Finance\", \"Building B\"),\n",
        "    (\"IT\", \"Building C\")\n",
        "]\n",
        "dept_columns = [\"Department\", \"Location\"]"
      ],
      "metadata": {
        "id": "Nbr8IbmoQZu0"
      },
      "execution_count": null,
      "outputs": []
    },
    {
      "cell_type": "code",
      "source": [
        "# Create another DataFrame for department info\n",
        "dept_data = [\n",
        "    (\"Sales\", \"Building A\"),\n",
        "    (\"Finance\", \"Building B\"),\n",
        "    (\"IT\", \"Building C\")\n",
        "]\n",
        "dept_columns = [\"Department\", \"Location\"]"
      ],
      "metadata": {
        "id": "HkKb0nFaRGOo"
      },
      "execution_count": null,
      "outputs": []
    },
    {
      "cell_type": "code",
      "source": [
        "df.show()"
      ],
      "metadata": {
        "colab": {
          "base_uri": "https://localhost:8080/"
        },
        "id": "zdWB3Zu2Sc6t",
        "outputId": "5bc46e70-ab83-4adc-caf2-01fd7e294402"
      },
      "execution_count": null,
      "outputs": [
        {
          "output_type": "stream",
          "name": "stdout",
          "text": [
            "+-----+----------+------+\n",
            "| Name|Department|Salary|\n",
            "+-----+----------+------+\n",
            "| John|     Sales|  3000|\n",
            "| Jane|   Finance|  4000|\n",
            "| Mike|     Sales|  3500|\n",
            "|Alice|   Finance|  3800|\n",
            "|  Bob|        IT|  4500|\n",
            "+-----+----------+------+\n",
            "\n"
          ]
        }
      ]
    },
    {
      "cell_type": "code",
      "source": [
        "dept_df =spark.createDataFrame(dept_data, dept_columns)\n",
        "# Join employee data with department info\n",
        "joined_df = df.join(dept_df, on=\"Department\", how=\"inner\")\n",
        "joined_df.show()"
      ],
      "metadata": {
        "colab": {
          "base_uri": "https://localhost:8080/"
        },
        "id": "7dmHSWH2SgZf",
        "outputId": "508402a0-2345-402b-bd9f-904c94e37f10"
      },
      "execution_count": null,
      "outputs": [
        {
          "output_type": "stream",
          "name": "stdout",
          "text": [
            "+----------+-----+------+----------+\n",
            "|Department| Name|Salary|  Location|\n",
            "+----------+-----+------+----------+\n",
            "|   Finance| Jane|  4000|Building B|\n",
            "|   Finance|Alice|  3800|Building B|\n",
            "|        IT|  Bob|  4500|Building C|\n",
            "|     Sales| John|  3000|Building A|\n",
            "|     Sales| Mike|  3500|Building A|\n",
            "+----------+-----+------+----------+\n",
            "\n"
          ]
        }
      ]
    },
    {
      "cell_type": "code",
      "source": [
        "dept_df.show()"
      ],
      "metadata": {
        "colab": {
          "base_uri": "https://localhost:8080/"
        },
        "id": "2ga4nR_0TKM5",
        "outputId": "a6a7dac2-c34a-42c3-81a5-aea6f5d2a6f2"
      },
      "execution_count": null,
      "outputs": [
        {
          "output_type": "stream",
          "name": "stdout",
          "text": [
            "+----------+----------+\n",
            "|Department|  Location|\n",
            "+----------+----------+\n",
            "|     Sales|Building A|\n",
            "|   Finance|Building B|\n",
            "|        IT|Building C|\n",
            "+----------+----------+\n",
            "\n"
          ]
        }
      ]
    },
    {
      "cell_type": "code",
      "source": [
        "dept_df =spark.createDataFrame(dept_data, dept_columns)\n",
        "# Join employee data with department info\n",
        "joined_df = df.join(dept_df, on=\"Department\", how=\"left\")\n",
        "joined_df.show()"
      ],
      "metadata": {
        "colab": {
          "base_uri": "https://localhost:8080/"
        },
        "id": "kI6g6Z80T37B",
        "outputId": "30b42fed-1479-44e7-bfa3-4d0d8a46ca50"
      },
      "execution_count": null,
      "outputs": [
        {
          "output_type": "stream",
          "name": "stdout",
          "text": [
            "+----------+-----+------+----------+\n",
            "|Department| Name|Salary|  Location|\n",
            "+----------+-----+------+----------+\n",
            "|     Sales| John|  3000|Building A|\n",
            "|   Finance| Jane|  4000|Building B|\n",
            "|     Sales| Mike|  3500|Building A|\n",
            "|   Finance|Alice|  3800|Building B|\n",
            "|        IT|  Bob|  4500|Building C|\n",
            "+----------+-----+------+----------+\n",
            "\n"
          ]
        }
      ]
    },
    {
      "cell_type": "code",
      "source": [
        "dept_df =spark.createDataFrame(dept_data, dept_columns)\n",
        "# Join employee data with department info\n",
        "joined_df = df.join(dept_df, on=\"Department\", how=\"right\")\n",
        "joined_df.show()"
      ],
      "metadata": {
        "colab": {
          "base_uri": "https://localhost:8080/"
        },
        "id": "hZaJnTncUJbM",
        "outputId": "2b509d81-0a4f-43f3-f853-a8ba0e4cfcf7"
      },
      "execution_count": null,
      "outputs": [
        {
          "output_type": "stream",
          "name": "stdout",
          "text": [
            "+----------+-----+------+----------+\n",
            "|Department| Name|Salary|  Location|\n",
            "+----------+-----+------+----------+\n",
            "|     Sales| Mike|  3500|Building A|\n",
            "|     Sales| John|  3000|Building A|\n",
            "|   Finance|Alice|  3800|Building B|\n",
            "|   Finance| Jane|  4000|Building B|\n",
            "|        IT|  Bob|  4500|Building C|\n",
            "+----------+-----+------+----------+\n",
            "\n"
          ]
        }
      ]
    },
    {
      "cell_type": "code",
      "source": [
        "dept_df =spark.createDataFrame(dept_data, dept_columns)\n",
        "# Join employee data with department info\n",
        "joined_df = df.join(dept_df, on=\"Department\", how=\"full\")\n",
        "joined_df.show()"
      ],
      "metadata": {
        "colab": {
          "base_uri": "https://localhost:8080/"
        },
        "id": "L6P1bgsnUN_j",
        "outputId": "839e1f42-6f3f-4f38-b1f3-0154ddc91e04"
      },
      "execution_count": null,
      "outputs": [
        {
          "output_type": "stream",
          "name": "stdout",
          "text": [
            "+----------+-----+------+----------+\n",
            "|Department| Name|Salary|  Location|\n",
            "+----------+-----+------+----------+\n",
            "|   Finance| Jane|  4000|Building B|\n",
            "|   Finance|Alice|  3800|Building B|\n",
            "|        IT|  Bob|  4500|Building C|\n",
            "|     Sales| John|  3000|Building A|\n",
            "|     Sales| Mike|  3500|Building A|\n",
            "+----------+-----+------+----------+\n",
            "\n"
          ]
        }
      ]
    },
    {
      "cell_type": "code",
      "source": [
        "# Employee DataFrame\n",
        "emp_data = [\n",
        "    (1, \"John\", \"Sales\", 3000),\n",
        "    (2, \"Jane\", \"Finance\", 4000),\n",
        "    (3, \"Mike\", \"Sales\", 3500),\n",
        "    (4, \"Alice\", \"HR\", 3800),\n",
        "    (5, \"Bob\", \"IT\", 4500),\n",
        "    (6, \"Sam\", \"Support\", 3200)\n",
        "]\n",
        "emp_cols = [\"EmpID\", \"Name\", \"Department\", \"Salary\"]\n",
        "emp_df = spark.createDataFrame(emp_data, emp_cols)\n",
        "\n",
        "# Department DataFrame\n",
        "dept_data = [\n",
        "    (\"Sales\", \"Building A\"),\n",
        "    (\"Finance\", \"Building B\"),\n",
        "    (\"IT\", \"Building C\"),\n",
        "    (\"Admin\", \"Building D\")\n",
        "]\n",
        "dept_cols = [\"Department\", \"Location\"]\n",
        "dept_df = spark.createDataFrame(dept_data, dept_cols)\n",
        "\n",
        "# Display both\n",
        "emp_df.show()\n",
        "dept_df.show()"
      ],
      "metadata": {
        "colab": {
          "base_uri": "https://localhost:8080/"
        },
        "id": "0mfdyG0DUZq1",
        "outputId": "c7e4cfbc-60d4-4c13-f9c0-92ed98be80a0"
      },
      "execution_count": null,
      "outputs": [
        {
          "output_type": "stream",
          "name": "stdout",
          "text": [
            "+-----+-----+----------+------+\n",
            "|EmpID| Name|Department|Salary|\n",
            "+-----+-----+----------+------+\n",
            "|    1| John|     Sales|  3000|\n",
            "|    2| Jane|   Finance|  4000|\n",
            "|    3| Mike|     Sales|  3500|\n",
            "|    4|Alice|        HR|  3800|\n",
            "|    5|  Bob|        IT|  4500|\n",
            "|    6|  Sam|   Support|  3200|\n",
            "+-----+-----+----------+------+\n",
            "\n",
            "+----------+----------+\n",
            "|Department|  Location|\n",
            "+----------+----------+\n",
            "|     Sales|Building A|\n",
            "|   Finance|Building B|\n",
            "|        IT|Building C|\n",
            "|     Admin|Building D|\n",
            "+----------+----------+\n",
            "\n"
          ]
        }
      ]
    },
    {
      "cell_type": "code",
      "source": [
        "joined_df = df.join(dept_df, on=\"Department\", how=\"inner\")\n",
        "joined_df.show()"
      ],
      "metadata": {
        "colab": {
          "base_uri": "https://localhost:8080/"
        },
        "id": "uS11KxozVL6j",
        "outputId": "ffa2025d-2a4b-4eab-9b36-f080ade444fc"
      },
      "execution_count": null,
      "outputs": [
        {
          "output_type": "stream",
          "name": "stdout",
          "text": [
            "+----------+-----+------+----------+\n",
            "|Department| Name|Salary|  Location|\n",
            "+----------+-----+------+----------+\n",
            "|   Finance| Jane|  4000|Building B|\n",
            "|   Finance|Alice|  3800|Building B|\n",
            "|        IT|  Bob|  4500|Building C|\n",
            "|     Sales| John|  3000|Building A|\n",
            "|     Sales| Mike|  3500|Building A|\n",
            "+----------+-----+------+----------+\n",
            "\n"
          ]
        }
      ]
    },
    {
      "cell_type": "code",
      "source": [
        "emp_df = df.join(dept_df, on=\"Department\", how=\"left\").show()"
      ],
      "metadata": {
        "colab": {
          "base_uri": "https://localhost:8080/"
        },
        "id": "QPca3HunVcBY",
        "outputId": "e17b6d60-1539-4ae8-9048-2123a0499999"
      },
      "execution_count": null,
      "outputs": [
        {
          "output_type": "stream",
          "name": "stdout",
          "text": [
            "+----------+-----+------+----------+\n",
            "|Department| Name|Salary|  Location|\n",
            "+----------+-----+------+----------+\n",
            "|     Sales| John|  3000|Building A|\n",
            "|   Finance| Jane|  4000|Building B|\n",
            "|     Sales| Mike|  3500|Building A|\n",
            "|   Finance|Alice|  3800|Building B|\n",
            "|        IT|  Bob|  4500|Building C|\n",
            "+----------+-----+------+----------+\n",
            "\n"
          ]
        }
      ]
    },
    {
      "cell_type": "code",
      "source": [
        "emp_df = df.join(dept_df, on=\"Department\", how=\"right\").show()"
      ],
      "metadata": {
        "colab": {
          "base_uri": "https://localhost:8080/"
        },
        "id": "O6uPRPeKWXGV",
        "outputId": "afb8ff71-c598-4db8-ce5b-33b9f3e7fc82"
      },
      "execution_count": null,
      "outputs": [
        {
          "output_type": "stream",
          "name": "stdout",
          "text": [
            "+----------+-----+------+----------+\n",
            "|Department| Name|Salary|  Location|\n",
            "+----------+-----+------+----------+\n",
            "|     Sales| Mike|  3500|Building A|\n",
            "|     Sales| John|  3000|Building A|\n",
            "|   Finance|Alice|  3800|Building B|\n",
            "|   Finance| Jane|  4000|Building B|\n",
            "|     Admin| NULL|  NULL|Building D|\n",
            "|        IT|  Bob|  4500|Building C|\n",
            "+----------+-----+------+----------+\n",
            "\n"
          ]
        }
      ]
    },
    {
      "cell_type": "code",
      "source": [
        "# Employee DataFrame\n",
        "emp_data = [\n",
        "    (1, \"John\", \"Sales\", 3000),\n",
        "    (2, \"Jane\", \"Finance\", 4000),\n",
        "    (3, \"Mike\", \"Sales\", 3500),\n",
        "    (4, \"Alice\", \"HR\", 3800),\n",
        "    (5, \"Bob\", \"IT\", 4500),\n",
        "    (6, \"Sam\", \"Support\", 3200)\n",
        "]\n",
        "emp_cols = [\"EmpID\", \"Name\", \"Department\", \"Salary\"]\n",
        "emp_df = spark.createDataFrame(emp_data, emp_cols)\n",
        "\n",
        "# Department DataFrame\n",
        "dept_data = [\n",
        "    (\"Sales\", \"Building A\"),\n",
        "    (\"Finance\", \"Building B\"),\n",
        "    (\"IT\", \"Building C\"),\n",
        "    (\"Admin\", \"Building D\")\n",
        "]\n",
        "dept_cols = [\"Department\", \"Location\"]\n",
        "dept_df = spark.createDataFrame(dept_data, dept_cols)\n",
        "\n",
        "# Display both\n",
        "emp_df.show()\n",
        "dept_df.show()"
      ],
      "metadata": {
        "colab": {
          "base_uri": "https://localhost:8080/"
        },
        "id": "k9M9RY3MWuV9",
        "outputId": "f2d054df-1888-4c87-d874-9e06fb48c8d4"
      },
      "execution_count": null,
      "outputs": [
        {
          "output_type": "stream",
          "name": "stdout",
          "text": [
            "+-----+-----+----------+------+\n",
            "|EmpID| Name|Department|Salary|\n",
            "+-----+-----+----------+------+\n",
            "|    1| John|     Sales|  3000|\n",
            "|    2| Jane|   Finance|  4000|\n",
            "|    3| Mike|     Sales|  3500|\n",
            "|    4|Alice|        HR|  3800|\n",
            "|    5|  Bob|        IT|  4500|\n",
            "|    6|  Sam|   Support|  3200|\n",
            "+-----+-----+----------+------+\n",
            "\n",
            "+----------+----------+\n",
            "|Department|  Location|\n",
            "+----------+----------+\n",
            "|     Sales|Building A|\n",
            "|   Finance|Building B|\n",
            "|        IT|Building C|\n",
            "|     Admin|Building D|\n",
            "+----------+----------+\n",
            "\n"
          ]
        }
      ]
    },
    {
      "cell_type": "code",
      "source": [
        "# Perfom Right Join (All Employees, Dept Info if Exists)\n",
        "emp_df.join(dept_df, on=\"Department\", how=\"right\").show()"
      ],
      "metadata": {
        "colab": {
          "base_uri": "https://localhost:8080/"
        },
        "id": "ladyWp80XCmf",
        "outputId": "3ebad003-9b97-4249-b36a-dca5803ecbf5"
      },
      "execution_count": null,
      "outputs": [
        {
          "output_type": "stream",
          "name": "stdout",
          "text": [
            "+----------+-----+----+------+----------+\n",
            "|Department|EmpID|Name|Salary|  Location|\n",
            "+----------+-----+----+------+----------+\n",
            "|     Sales|    3|Mike|  3500|Building A|\n",
            "|     Sales|    1|John|  3000|Building A|\n",
            "|   Finance|    2|Jane|  4000|Building B|\n",
            "|     Admin| NULL|NULL|  NULL|Building D|\n",
            "|        IT|    5| Bob|  4500|Building C|\n",
            "+----------+-----+----+------+----------+\n",
            "\n"
          ]
        }
      ]
    },
    {
      "cell_type": "markdown",
      "source": [
        "Use Case Study Project"
      ],
      "metadata": {
        "id": "25tD72Uabff1"
      }
    },
    {
      "cell_type": "code",
      "source": [
        "from pyspark.sql import SparkSession\n",
        "from pyspark.sql.functions import col, sum, avg, count, max, month, to_date, expr, desc, first, last, when\n",
        "from pyspark.sql.types import *\n",
        "\n",
        "# Create Spark session\n",
        "spark = SparkSession.builder.appName(\"SalesAnalysis\").getOrCreate()\n",
        "\n",
        "# Sample Sales Data\n",
        "sales_data = [\n",
        "    (1001, 101, 501, \"2025-07-10 08:23:00\", 3, 25.5),\n",
        "    (1002, 102, 502, \"2025-07-11 09:45:00\", 2, 15.0),\n",
        "    (1003, 103, 503, \"2025-07-12 10:15:00\", 1, 30.0),\n",
        "    (1004, 101, 504, \"2025-07-13 12:20:00\", 5, 25.5),\n",
        "    (1005, 105, 505, \"2025-07-14 14:35:00\", 10, 45.0),\n",
        "    (1006, 102, 506, \"2025-07-15 16:00:00\", 4, 15.0)\n",
        "]\n",
        "\n",
        "sales_schema = StructType([\n",
        "    StructField(\"sale_id\", IntegerType()),\n",
        "    StructField(\"product_id\", IntegerType()),\n",
        "    StructField(\"customer_id\", IntegerType()),\n",
        "    StructField(\"sale_date\", StringType()),\n",
        "    StructField(\"quantity\", IntegerType()),\n",
        "    StructField(\"price\", FloatType())\n",
        "])\n",
        "\n",
        "sales_df = spark.createDataFrame(sales_data, schema=sales_schema)\n",
        "\n",
        "# Product Data\n",
        "product_data = [\n",
        "    (101, \"Widget A\", \"Gadgets\"),\n",
        "    (102, \"Widget B\", \"Gadgets\"),\n",
        "    (103, \"Widget C\", \"Electronics\"),\n",
        "    (104, \"Widget D\", \"Electronics\"),\n",
        "    (105, \"Widget E\", \"Home & Living\")\n",
        "]\n",
        "\n",
        "product_df = spark.createDataFrame(product_data, [\"product_id\", \"product_name\", \"category\"])\n",
        "\n",
        "# Customer Data\n",
        "customer_data = [\n",
        "    (501, \"Alice\", \"alice@example.com\", \"2025-05-20 10:10:00\"),\n",
        "    (502, \"Bob\", \"bob@example.com\", \"2025-06-15 14:00:00\"),\n",
        "    (503, \"Charlie\", \"charlie@example.com\", \"2025-04-05 09:50:00\"),\n",
        "    (504, \"David\", \"david@example.com\", \"2025-07-01 12:25:00\"),\n",
        "    (505, \"Emma\", \"emma@example.com\", \"2025-07-10 15:30:00\"),\n",
        "    (506, \"Frank\", \"frank@example.com\", \"2025-03-23 17:00:00\")\n",
        "]\n",
        "\n",
        "customer_df = spark.createDataFrame(customer_data, [\"customer_id\", \"customer_name\", \"email\", \"join_date\"])\n"
      ],
      "metadata": {
        "id": "mEkbrE9mXGUn"
      },
      "execution_count": null,
      "outputs": []
    },
    {
      "cell_type": "code",
      "source": [
        "sales_df.withColumn(\"revenue\", col(\"quantity\") * col(\"price\")) \\\n",
        "    .groupBy(\"product_id\") \\\n",
        "    .agg(sum(\"revenue\").alias(\"total_revenue\")) \\\n",
        "    .orderBy(\"total_revenue\", ascending=False).show()\n"
      ],
      "metadata": {
        "colab": {
          "base_uri": "https://localhost:8080/"
        },
        "id": "PMQbC68SYBS0",
        "outputId": "c64f2f50-8524-400a-e8f7-a9ff2ed3983e"
      },
      "execution_count": null,
      "outputs": [
        {
          "output_type": "stream",
          "name": "stdout",
          "text": [
            "+----------+-------------+\n",
            "|product_id|total_revenue|\n",
            "+----------+-------------+\n",
            "|       105|        450.0|\n",
            "|       101|        204.0|\n",
            "|       102|         90.0|\n",
            "|       103|         30.0|\n",
            "+----------+-------------+\n",
            "\n"
          ]
        }
      ]
    },
    {
      "cell_type": "code",
      "source": [
        "#Total Quantity Sold per Customer\n",
        "sales_df.groupBy(\"customer_id\") \\\n",
        "    .agg(sum(\"quantity\").alias(\"total_quantity\")) \\\n",
        "    .show()\n"
      ],
      "metadata": {
        "colab": {
          "base_uri": "https://localhost:8080/"
        },
        "id": "SJyYJdUQYE3D",
        "outputId": "38d23d11-015c-4f55-be78-b0ac3cf9010b"
      },
      "execution_count": null,
      "outputs": [
        {
          "output_type": "stream",
          "name": "stdout",
          "text": [
            "+-----------+--------------+\n",
            "|customer_id|total_quantity|\n",
            "+-----------+--------------+\n",
            "|        501|             3|\n",
            "|        502|             2|\n",
            "|        503|             1|\n",
            "|        504|             5|\n",
            "|        505|            10|\n",
            "|        506|             4|\n",
            "+-----------+--------------+\n",
            "\n"
          ]
        }
      ]
    },
    {
      "cell_type": "code",
      "source": [
        "#Average Revenue per Customer\n",
        "sales_df.withColumn(\"revenue\", col(\"quantity\") * col(\"price\")) \\\n",
        "    .groupBy(\"customer_id\") \\\n",
        "    .agg(avg(\"revenue\").alias(\"avg_revenue\")) \\\n",
        "    .show()\n"
      ],
      "metadata": {
        "colab": {
          "base_uri": "https://localhost:8080/"
        },
        "id": "v6P4YvlxYWg2",
        "outputId": "f4ddc8b4-b0a4-4b86-929f-f7239a9dad32"
      },
      "execution_count": null,
      "outputs": [
        {
          "output_type": "stream",
          "name": "stdout",
          "text": [
            "+-----------+-----------+\n",
            "|customer_id|avg_revenue|\n",
            "+-----------+-----------+\n",
            "|        501|       76.5|\n",
            "|        502|       30.0|\n",
            "|        503|       30.0|\n",
            "|        504|      127.5|\n",
            "|        505|      450.0|\n",
            "|        506|       60.0|\n",
            "+-----------+-----------+\n",
            "\n"
          ]
        }
      ]
    },
    {
      "cell_type": "code",
      "source": [
        "#Monthly Sales Total\n",
        "sales_df.withColumn(\"sale_month\", month(to_date(\"sale_date\"))) \\\n",
        "    .withColumn(\"revenue\", col(\"quantity\") * col(\"price\")) \\\n",
        "    .groupBy(\"sale_month\") \\\n",
        "    .agg(sum(\"revenue\").alias(\"monthly_total\")) \\\n",
        "    .show()\n"
      ],
      "metadata": {
        "colab": {
          "base_uri": "https://localhost:8080/"
        },
        "id": "vmrlL6qfYtfO",
        "outputId": "d697b0ab-4f33-497e-e906-2bb8e6c5a4f4"
      },
      "execution_count": null,
      "outputs": [
        {
          "output_type": "stream",
          "name": "stdout",
          "text": [
            "+----------+-------------+\n",
            "|sale_month|monthly_total|\n",
            "+----------+-------------+\n",
            "|         7|        774.0|\n",
            "+----------+-------------+\n",
            "\n"
          ]
        }
      ]
    },
    {
      "cell_type": "code",
      "source": [
        "# Count of Sales per Category\n",
        "sales_with_category = sales_df.join(product_df, \"product_id\")\n",
        "sales_with_category.groupBy(\"category\").agg(count(\"*\").alias(\"sales_count\")).show()\n"
      ],
      "metadata": {
        "colab": {
          "base_uri": "https://localhost:8080/"
        },
        "id": "mJVVeuxYY0px",
        "outputId": "4fab4403-9ef5-492d-a9ce-79bca27a70f4"
      },
      "execution_count": null,
      "outputs": [
        {
          "output_type": "stream",
          "name": "stdout",
          "text": [
            "+-------------+-----------+\n",
            "|     category|sales_count|\n",
            "+-------------+-----------+\n",
            "|  Electronics|          1|\n",
            "|      Gadgets|          4|\n",
            "|Home & Living|          1|\n",
            "+-------------+-----------+\n",
            "\n"
          ]
        }
      ]
    },
    {
      "cell_type": "code",
      "source": [
        "#Top 3 Most Expensive Products (by Revenue)\n",
        "sales_df.withColumn(\"revenue\", col(\"quantity\") * col(\"price\")) \\\n",
        "    .groupBy(\"product_id\") \\\n",
        "    .agg(sum(\"revenue\").alias(\"total_revenue\")) \\\n",
        "    .join(product_df, \"product_id\") \\\n",
        "    .orderBy(desc(\"total_revenue\")) \\\n",
        "    .limit(3).show()\n"
      ],
      "metadata": {
        "colab": {
          "base_uri": "https://localhost:8080/"
        },
        "id": "25Rh0lWuY6Lp",
        "outputId": "ec4a3ef4-e779-47c1-9c6a-7f36594a7e68"
      },
      "execution_count": null,
      "outputs": [
        {
          "output_type": "stream",
          "name": "stdout",
          "text": [
            "+----------+-------------+------------+-------------+\n",
            "|product_id|total_revenue|product_name|     category|\n",
            "+----------+-------------+------------+-------------+\n",
            "|       105|        450.0|    Widget E|Home & Living|\n",
            "|       101|        204.0|    Widget A|      Gadgets|\n",
            "|       102|         90.0|    Widget B|      Gadgets|\n",
            "+----------+-------------+------------+-------------+\n",
            "\n"
          ]
        }
      ]
    },
    {
      "cell_type": "code",
      "source": [
        "# Join Sales with Product Info\n",
        "\n",
        "sales_with_product = sales_df.join(product_df, \"product_id\")\n",
        "sales_with_product.select(\"sale_id\", \"product_name\", \"category\", \"quantity\", \"price\").show()\n"
      ],
      "metadata": {
        "colab": {
          "base_uri": "https://localhost:8080/"
        },
        "id": "RSqfnblwY_no",
        "outputId": "b01be24a-5668-46e5-c760-e37c5985d3c5"
      },
      "execution_count": null,
      "outputs": [
        {
          "output_type": "stream",
          "name": "stdout",
          "text": [
            "+-------+------------+-------------+--------+-----+\n",
            "|sale_id|product_name|     category|quantity|price|\n",
            "+-------+------------+-------------+--------+-----+\n",
            "|   1001|    Widget A|      Gadgets|       3| 25.5|\n",
            "|   1004|    Widget A|      Gadgets|       5| 25.5|\n",
            "|   1002|    Widget B|      Gadgets|       2| 15.0|\n",
            "|   1006|    Widget B|      Gadgets|       4| 15.0|\n",
            "|   1003|    Widget C|  Electronics|       1| 30.0|\n",
            "|   1005|    Widget E|Home & Living|      10| 45.0|\n",
            "+-------+------------+-------------+--------+-----+\n",
            "\n"
          ]
        }
      ]
    },
    {
      "cell_type": "code",
      "source": [
        "# Join Sales with Customer Info\n",
        "sales_with_customer = sales_df.join(customer_df, \"customer_id\")\n",
        "sales_with_customer.select(\"sale_id\", \"customer_name\", \"email\", \"sale_date\", \"quantity\", \"price\").show()\n"
      ],
      "metadata": {
        "colab": {
          "base_uri": "https://localhost:8080/"
        },
        "id": "pWokbN5rZQ9w",
        "outputId": "144ad36a-ff69-4264-b1f9-375b619b4e72"
      },
      "execution_count": null,
      "outputs": [
        {
          "output_type": "stream",
          "name": "stdout",
          "text": [
            "+-------+-------------+-------------------+-------------------+--------+-----+\n",
            "|sale_id|customer_name|              email|          sale_date|quantity|price|\n",
            "+-------+-------------+-------------------+-------------------+--------+-----+\n",
            "|   1001|        Alice|  alice@example.com|2025-07-10 08:23:00|       3| 25.5|\n",
            "|   1002|          Bob|    bob@example.com|2025-07-11 09:45:00|       2| 15.0|\n",
            "|   1003|      Charlie|charlie@example.com|2025-07-12 10:15:00|       1| 30.0|\n",
            "|   1004|        David|  david@example.com|2025-07-13 12:20:00|       5| 25.5|\n",
            "|   1005|         Emma|   emma@example.com|2025-07-14 14:35:00|      10| 45.0|\n",
            "|   1006|        Frank|  frank@example.com|2025-07-15 16:00:00|       4| 15.0|\n",
            "+-------+-------------+-------------------+-------------------+--------+-----+\n",
            "\n"
          ]
        }
      ]
    },
    {
      "cell_type": "code",
      "source": [
        "#Inner Join: Sales + Products (Gadgets only)\n",
        "sales_df.join(product_df.filter(col(\"category\") == \"Gadgets\"), \"product_id\", \"inner\").show()\n"
      ],
      "metadata": {
        "colab": {
          "base_uri": "https://localhost:8080/"
        },
        "id": "exjtJeMSaGdi",
        "outputId": "358f5467-9aa3-4db9-bccc-0b50fc5dba62"
      },
      "execution_count": null,
      "outputs": [
        {
          "output_type": "stream",
          "name": "stdout",
          "text": [
            "+----------+-------+-----------+-------------------+--------+-----+------------+--------+\n",
            "|product_id|sale_id|customer_id|          sale_date|quantity|price|product_name|category|\n",
            "+----------+-------+-----------+-------------------+--------+-----+------------+--------+\n",
            "|       101|   1001|        501|2025-07-10 08:23:00|       3| 25.5|    Widget A| Gadgets|\n",
            "|       101|   1004|        504|2025-07-13 12:20:00|       5| 25.5|    Widget A| Gadgets|\n",
            "|       102|   1002|        502|2025-07-11 09:45:00|       2| 15.0|    Widget B| Gadgets|\n",
            "|       102|   1006|        506|2025-07-15 16:00:00|       4| 15.0|    Widget B| Gadgets|\n",
            "+----------+-------+-----------+-------------------+--------+-----+------------+--------+\n",
            "\n"
          ]
        }
      ]
    },
    {
      "cell_type": "code",
      "source": [
        "#Left Join: All Sales + Product Info (even unmatched)\n",
        "sales_df.join(product_df, \"product_id\", \"left\").show()\n"
      ],
      "metadata": {
        "colab": {
          "base_uri": "https://localhost:8080/"
        },
        "id": "4hfmRVnZaM1I",
        "outputId": "91676d1f-5333-4d31-a8eb-896ba5eacc68"
      },
      "execution_count": null,
      "outputs": [
        {
          "output_type": "stream",
          "name": "stdout",
          "text": [
            "+----------+-------+-----------+-------------------+--------+-----+------------+-------------+\n",
            "|product_id|sale_id|customer_id|          sale_date|quantity|price|product_name|     category|\n",
            "+----------+-------+-----------+-------------------+--------+-----+------------+-------------+\n",
            "|       103|   1003|        503|2025-07-12 10:15:00|       1| 30.0|    Widget C|  Electronics|\n",
            "|       101|   1001|        501|2025-07-10 08:23:00|       3| 25.5|    Widget A|      Gadgets|\n",
            "|       102|   1002|        502|2025-07-11 09:45:00|       2| 15.0|    Widget B|      Gadgets|\n",
            "|       105|   1005|        505|2025-07-14 14:35:00|      10| 45.0|    Widget E|Home & Living|\n",
            "|       101|   1004|        504|2025-07-13 12:20:00|       5| 25.5|    Widget A|      Gadgets|\n",
            "|       102|   1006|        506|2025-07-15 16:00:00|       4| 15.0|    Widget B|      Gadgets|\n",
            "+----------+-------+-----------+-------------------+--------+-----+------------+-------------+\n",
            "\n"
          ]
        }
      ]
    },
    {
      "cell_type": "code",
      "source": [
        "#Full Outer Join: Sales + Products\n",
        "sales_df.join(product_df, \"product_id\", \"outer\").show()\n"
      ],
      "metadata": {
        "colab": {
          "base_uri": "https://localhost:8080/"
        },
        "id": "o9zASrWFaTsL",
        "outputId": "d1393f08-4a6d-4ae1-8cb9-2f729e38c527"
      },
      "execution_count": null,
      "outputs": [
        {
          "output_type": "stream",
          "name": "stdout",
          "text": [
            "+----------+-------+-----------+-------------------+--------+-----+------------+-------------+\n",
            "|product_id|sale_id|customer_id|          sale_date|quantity|price|product_name|     category|\n",
            "+----------+-------+-----------+-------------------+--------+-----+------------+-------------+\n",
            "|       101|   1001|        501|2025-07-10 08:23:00|       3| 25.5|    Widget A|      Gadgets|\n",
            "|       101|   1004|        504|2025-07-13 12:20:00|       5| 25.5|    Widget A|      Gadgets|\n",
            "|       102|   1002|        502|2025-07-11 09:45:00|       2| 15.0|    Widget B|      Gadgets|\n",
            "|       102|   1006|        506|2025-07-15 16:00:00|       4| 15.0|    Widget B|      Gadgets|\n",
            "|       103|   1003|        503|2025-07-12 10:15:00|       1| 30.0|    Widget C|  Electronics|\n",
            "|       104|   NULL|       NULL|               NULL|    NULL| NULL|    Widget D|  Electronics|\n",
            "|       105|   1005|        505|2025-07-14 14:35:00|      10| 45.0|    Widget E|Home & Living|\n",
            "+----------+-------+-----------+-------------------+--------+-----+------------+-------------+\n",
            "\n"
          ]
        }
      ]
    },
    {
      "cell_type": "code",
      "source": [
        "#Self-Join: Compare Sales of Same Product\n",
        "sales1 = sales_df.alias(\"s1\")\n",
        "sales2 = sales_df.alias(\"s2\")\n",
        "\n",
        "sales1.join(sales2, (col(\"s1.product_id\") == col(\"s2.product_id\")) & (col(\"s1.sale_date\") < col(\"s2.sale_date\"))) \\\n",
        "      .select(col(\"s1.sale_id\"), col(\"s2.sale_id\"), col(\"s1.product_id\"), col(\"s1.sale_date\"), col(\"s2.sale_date\")) \\\n",
        "      .show()\n"
      ],
      "metadata": {
        "colab": {
          "base_uri": "https://localhost:8080/"
        },
        "id": "xk85WfvsahWL",
        "outputId": "3aa7531d-b01e-44b8-e393-e6f153b08658"
      },
      "execution_count": null,
      "outputs": [
        {
          "output_type": "stream",
          "name": "stdout",
          "text": [
            "+-------+-------+----------+-------------------+-------------------+\n",
            "|sale_id|sale_id|product_id|          sale_date|          sale_date|\n",
            "+-------+-------+----------+-------------------+-------------------+\n",
            "|   1001|   1004|       101|2025-07-10 08:23:00|2025-07-13 12:20:00|\n",
            "|   1002|   1006|       102|2025-07-11 09:45:00|2025-07-15 16:00:00|\n",
            "+-------+-------+----------+-------------------+-------------------+\n",
            "\n"
          ]
        }
      ]
    },
    {
      "cell_type": "code",
      "source": [
        "#Join All 3 Tables\n",
        "sales_df.join(product_df, \"product_id\") \\\n",
        "        .join(customer_df, \"customer_id\") \\\n",
        "        .select(\"sale_id\", \"customer_name\", \"product_name\", \"category\", \"quantity\", \"price\", \"sale_date\") \\\n",
        "        .show()\n"
      ],
      "metadata": {
        "colab": {
          "base_uri": "https://localhost:8080/"
        },
        "id": "ZUSvTm19anQo",
        "outputId": "3e6daa0d-4419-469c-8689-7e9b2746549b"
      },
      "execution_count": null,
      "outputs": [
        {
          "output_type": "stream",
          "name": "stdout",
          "text": [
            "+-------+-------------+------------+-------------+--------+-----+-------------------+\n",
            "|sale_id|customer_name|product_name|     category|quantity|price|          sale_date|\n",
            "+-------+-------------+------------+-------------+--------+-----+-------------------+\n",
            "|   1002|          Bob|    Widget B|      Gadgets|       2| 15.0|2025-07-11 09:45:00|\n",
            "|   1001|        Alice|    Widget A|      Gadgets|       3| 25.5|2025-07-10 08:23:00|\n",
            "|   1003|      Charlie|    Widget C|  Electronics|       1| 30.0|2025-07-12 10:15:00|\n",
            "|   1004|        David|    Widget A|      Gadgets|       5| 25.5|2025-07-13 12:20:00|\n",
            "|   1006|        Frank|    Widget B|      Gadgets|       4| 15.0|2025-07-15 16:00:00|\n",
            "|   1005|         Emma|    Widget E|Home & Living|      10| 45.0|2025-07-14 14:35:00|\n",
            "+-------+-------------+------------+-------------+--------+-----+-------------------+\n",
            "\n"
          ]
        }
      ]
    },
    {
      "cell_type": "code",
      "source": [
        "# Filter Sales Between Specific Dates\n",
        "sales_df.filter((col(\"sale_date\") >= \"2025-07-10\") & (col(\"sale_date\") <= \"2025-07-15\")).show()\n"
      ],
      "metadata": {
        "colab": {
          "base_uri": "https://localhost:8080/"
        },
        "id": "qLxZ9iCGaxUe",
        "outputId": "98d1256a-f7c2-4810-9838-32af50ef8303"
      },
      "execution_count": null,
      "outputs": [
        {
          "output_type": "stream",
          "name": "stdout",
          "text": [
            "+-------+----------+-----------+-------------------+--------+-----+\n",
            "|sale_id|product_id|customer_id|          sale_date|quantity|price|\n",
            "+-------+----------+-----------+-------------------+--------+-----+\n",
            "|   1001|       101|        501|2025-07-10 08:23:00|       3| 25.5|\n",
            "|   1002|       102|        502|2025-07-11 09:45:00|       2| 15.0|\n",
            "|   1003|       103|        503|2025-07-12 10:15:00|       1| 30.0|\n",
            "|   1004|       101|        504|2025-07-13 12:20:00|       5| 25.5|\n",
            "|   1005|       105|        505|2025-07-14 14:35:00|      10| 45.0|\n",
            "+-------+----------+-----------+-------------------+--------+-----+\n",
            "\n"
          ]
        }
      ]
    },
    {
      "cell_type": "code",
      "source": [
        "sales_df.withColumn(\"spend\", col(\"quantity\") * col(\"price\")) \\\n",
        "    .groupBy(\"customer_id\") \\\n",
        "    .agg(sum(\"spend\").alias(\"total_spend\")) \\\n",
        "    .join(customer_df, \"customer_id\") \\\n",
        "    .orderBy(desc(\"total_spend\")) \\\n",
        "    .limit(5).show()\n"
      ],
      "metadata": {
        "colab": {
          "base_uri": "https://localhost:8080/"
        },
        "id": "VFVthivda3oC",
        "outputId": "d8600fbf-279d-4250-e382-51d91bc847a0"
      },
      "execution_count": null,
      "outputs": [
        {
          "output_type": "stream",
          "name": "stdout",
          "text": [
            "+-----------+-----------+-------------+-----------------+-------------------+\n",
            "|customer_id|total_spend|customer_name|            email|          join_date|\n",
            "+-----------+-----------+-------------+-----------------+-------------------+\n",
            "|        505|      450.0|         Emma| emma@example.com|2025-07-10 15:30:00|\n",
            "|        504|      127.5|        David|david@example.com|2025-07-01 12:25:00|\n",
            "|        501|       76.5|        Alice|alice@example.com|2025-05-20 10:10:00|\n",
            "|        506|       60.0|        Frank|frank@example.com|2025-03-23 17:00:00|\n",
            "|        502|       30.0|          Bob|  bob@example.com|2025-06-15 14:00:00|\n",
            "+-----------+-----------+-------------+-----------------+-------------------+\n",
            "\n"
          ]
        }
      ]
    },
    {
      "cell_type": "code",
      "source": [
        "spend_df = sales_df.withColumn(\"spend\", col(\"quantity\") * col(\"price\")) \\\n",
        "    .groupBy(\"customer_id\").agg(sum(\"spend\").alias(\"total_spend\"))\n",
        "\n",
        "spend_df = spend_df.withColumn(\"spend_category\",\n",
        "            when(col(\"total_spend\") >= 200, \"High\")\n",
        "           .when(col(\"total_spend\") >= 100, \"Medium\")\n",
        "           .otherwise(\"Low\"))\n",
        "\n",
        "spend_df.join(customer_df, \"customer_id\").select(\"customer_name\", \"total_spend\", \"spend_category\").show()\n"
      ],
      "metadata": {
        "colab": {
          "base_uri": "https://localhost:8080/"
        },
        "id": "6s_LKd-fa7Qg",
        "outputId": "8f549b94-e3e2-4086-c86c-753de58b6922"
      },
      "execution_count": null,
      "outputs": [
        {
          "output_type": "stream",
          "name": "stdout",
          "text": [
            "+-------------+-----------+--------------+\n",
            "|customer_name|total_spend|spend_category|\n",
            "+-------------+-----------+--------------+\n",
            "|          Bob|       30.0|           Low|\n",
            "|        Alice|       76.5|           Low|\n",
            "|      Charlie|       30.0|           Low|\n",
            "|        David|      127.5|        Medium|\n",
            "|        Frank|       60.0|           Low|\n",
            "|         Emma|      450.0|          High|\n",
            "+-------------+-----------+--------------+\n",
            "\n"
          ]
        }
      ]
    },
    {
      "cell_type": "code",
      "source": [
        "sales_df.groupBy(\"customer_id\") \\\n",
        "    .agg(\n",
        "        min(\"sale_date\").alias(\"first_purchase\"),\n",
        "        max(\"sale_date\").alias(\"last_purchase\")\n",
        "    ).join(customer_df, \"customer_id\").show()\n"
      ],
      "metadata": {
        "colab": {
          "base_uri": "https://localhost:8080/"
        },
        "id": "kE5QpqCfa-Er",
        "outputId": "52c87949-ca5e-4ee9-e26e-e67e04752e31"
      },
      "execution_count": null,
      "outputs": [
        {
          "output_type": "stream",
          "name": "stdout",
          "text": [
            "+-----------+-------------------+-------------------+-------------+-------------------+-------------------+\n",
            "|customer_id|     first_purchase|      last_purchase|customer_name|              email|          join_date|\n",
            "+-----------+-------------------+-------------------+-------------+-------------------+-------------------+\n",
            "|        502|2025-07-11 09:45:00|2025-07-11 09:45:00|          Bob|    bob@example.com|2025-06-15 14:00:00|\n",
            "|        501|2025-07-10 08:23:00|2025-07-10 08:23:00|        Alice|  alice@example.com|2025-05-20 10:10:00|\n",
            "|        503|2025-07-12 10:15:00|2025-07-12 10:15:00|      Charlie|charlie@example.com|2025-04-05 09:50:00|\n",
            "|        504|2025-07-13 12:20:00|2025-07-13 12:20:00|        David|  david@example.com|2025-07-01 12:25:00|\n",
            "|        506|2025-07-15 16:00:00|2025-07-15 16:00:00|        Frank|  frank@example.com|2025-03-23 17:00:00|\n",
            "|        505|2025-07-14 14:35:00|2025-07-14 14:35:00|         Emma|   emma@example.com|2025-07-10 15:30:00|\n",
            "+-----------+-------------------+-------------------+-------------+-------------------+-------------------+\n",
            "\n"
          ]
        }
      ]
    },
    {
      "cell_type": "code",
      "source": [
        "from pyspark.sql.functions import datediff, current_date, lit\n",
        "\n",
        "recent_cutoff = \"2025-06-28\"\n",
        "sales_recent = sales_df.filter(col(\"sale_date\") > recent_cutoff).select(\"customer_id\").distinct()\n",
        "\n",
        "customer_df.join(sales_recent, \"customer_id\", \"left_anti\").show()\n"
      ],
      "metadata": {
        "colab": {
          "base_uri": "https://localhost:8080/"
        },
        "id": "TEJxWI5rbCZ7",
        "outputId": "0a1a7801-cf1c-40a3-e96d-848ec73f8c5b"
      },
      "execution_count": null,
      "outputs": [
        {
          "output_type": "stream",
          "name": "stdout",
          "text": [
            "+-----------+-------------+-----+---------+\n",
            "|customer_id|customer_name|email|join_date|\n",
            "+-----------+-------------+-----+---------+\n",
            "+-----------+-------------+-----+---------+\n",
            "\n"
          ]
        }
      ]
    },
    {
      "cell_type": "markdown",
      "source": [
        "pivot"
      ],
      "metadata": {
        "id": "xPqJ6nfHzm1C"
      }
    },
    {
      "cell_type": "code",
      "source": [
        "from pyspark.sql import SparkSession\n",
        "from pyspark.sql.functions import explode\n",
        "\n",
        "spark = SparkSession.builder.appName(\"AdvancedOps\").getOrCreate()\n",
        "\n",
        "data = [\n",
        "    (\"John\", [\"Python\", \"Java\"]),\n",
        "    (\"Jane\", [\"SQL\", \"R\", \"Scala\"]),\n",
        "    (\"Mike\", [])\n",
        "]\n",
        "columns = [\"Name\", \"Skills\"]\n",
        "\n",
        "df = spark.createDataFrame(data, columns)\n",
        "df.show(truncate=False)"
      ],
      "metadata": {
        "id": "5tWVF62LbFMm",
        "outputId": "a6b9b832-ca31-48ce-8a27-8c3addd37e32",
        "colab": {
          "base_uri": "https://localhost:8080/"
        }
      },
      "execution_count": null,
      "outputs": [
        {
          "output_type": "stream",
          "name": "stdout",
          "text": [
            "+----+---------------+\n",
            "|Name|Skills         |\n",
            "+----+---------------+\n",
            "|John|[Python, Java] |\n",
            "|Jane|[SQL, R, Scala]|\n",
            "|Mike|[]             |\n",
            "+----+---------------+\n",
            "\n"
          ]
        }
      ]
    },
    {
      "cell_type": "code",
      "source": [
        "data = [\n",
        "    (\"ProductA\", \"Jan\", 100),\n",
        "    (\"ProductA\", \"Feb\", 150),\n",
        "    (\"ProductA\", \"Mar\", 120),\n",
        "    (\"ProductB\", \"Jan\", 200),\n",
        "    (\"ProductB\", \"Feb\", 230),\n",
        "    (\"ProductB\", \"Mar\", 210),\n",
        "]\n",
        "columns = [\"Product\", \"Month\", \"Sales\"]\n",
        "\n",
        "df = spark.createDataFrame(data, columns)\n",
        "df.show()"
      ],
      "metadata": {
        "id": "O2o6M5u_zbK9",
        "outputId": "918d09c2-adde-4d16-8520-f699de37ad46",
        "colab": {
          "base_uri": "https://localhost:8080/"
        }
      },
      "execution_count": null,
      "outputs": [
        {
          "output_type": "stream",
          "name": "stdout",
          "text": [
            "+--------+-----+-----+\n",
            "| Product|Month|Sales|\n",
            "+--------+-----+-----+\n",
            "|ProductA|  Jan|  100|\n",
            "|ProductA|  Feb|  150|\n",
            "|ProductA|  Mar|  120|\n",
            "|ProductB|  Jan|  200|\n",
            "|ProductB|  Feb|  230|\n",
            "|ProductB|  Mar|  210|\n",
            "+--------+-----+-----+\n",
            "\n"
          ]
        }
      ]
    },
    {
      "cell_type": "code",
      "source": [
        "pivot_df=df.groupBy(\"Product\").pivot(\"Month\").sum(\"Sales\")\n",
        "pivot_df.show()"
      ],
      "metadata": {
        "id": "uAnkjRqUzgp6",
        "outputId": "8b3f7d38-a5c8-4962-b0dc-d2c367a35778",
        "colab": {
          "base_uri": "https://localhost:8080/"
        }
      },
      "execution_count": null,
      "outputs": [
        {
          "output_type": "stream",
          "name": "stdout",
          "text": [
            "+--------+---+---+---+\n",
            "| Product|Feb|Jan|Mar|\n",
            "+--------+---+---+---+\n",
            "|ProductB|230|200|210|\n",
            "|ProductA|150|100|120|\n",
            "+--------+---+---+---+\n",
            "\n"
          ]
        }
      ]
    },
    {
      "cell_type": "code",
      "source": [
        "wide_df = df.groupBy(\"Product\").pivot(\"Month\").sum(\"Sales\")\n",
        "unpivot_df = wide_df.selectExpr(\"Product\",\"stack(3,'Jan',Jan,'Feb',Feb,'Mar',Mar) as (Month,Sales)\")\n",
        "unpivot_df.show()"
      ],
      "metadata": {
        "id": "-8q9WO4N0dBY",
        "outputId": "1bc9039c-23ac-4ae8-ae6a-f97bf49dda73",
        "colab": {
          "base_uri": "https://localhost:8080/"
        }
      },
      "execution_count": null,
      "outputs": [
        {
          "output_type": "stream",
          "name": "stdout",
          "text": [
            "+--------+-----+-----+\n",
            "| Product|Month|Sales|\n",
            "+--------+-----+-----+\n",
            "|ProductB|  Jan|  200|\n",
            "|ProductB|  Feb|  230|\n",
            "|ProductB|  Mar|  210|\n",
            "|ProductA|  Jan|  100|\n",
            "|ProductA|  Feb|  150|\n",
            "|ProductA|  Mar|  120|\n",
            "+--------+-----+-----+\n",
            "\n"
          ]
        }
      ]
    },
    {
      "cell_type": "markdown",
      "source": [
        "DATA HANDALING"
      ],
      "metadata": {
        "id": "VYM_LxFah4fI"
      }
    },
    {
      "cell_type": "code",
      "source": [
        "from pyspark import SparkContext, SparkConf\n",
        "\n",
        "# Check if a SparkContext already exists, otherwise create a new one\n",
        "conf = SparkConf().setAppName(\"MySparkapp\").setMaster(\"local[*]\")\n",
        "sc = SparkContext.getOrCreate(conf=conf)\n",
        "\n",
        "rdd = sc.parallelize([1, 2, 3, 4, 5])\n",
        "rdd_mapped = rdd.map(lambda x: x * 2)\n",
        "print(rdd_mapped.collect())\n",
        "rdd_filtered = rdd.filter(lambda x: x % 2 == 0)\n",
        "print(rdd_filtered.collect())\n",
        "rdd_reduced = rdd.reduce(lambda x, y: x + y)\n",
        "print(rdd_reduced)\n",
        "#flatmap\n",
        "rdd_flatmap = rdd.flatMap(lambda x: range(x, x+4))\n",
        "print(rdd_flatmap.collect())"
      ],
      "metadata": {
        "id": "zFaBEOjp0jf1",
        "colab": {
          "base_uri": "https://localhost:8080/"
        },
        "outputId": "156a90b8-f261-48c8-93ef-930ce2641a52"
      },
      "execution_count": 10,
      "outputs": [
        {
          "output_type": "stream",
          "name": "stdout",
          "text": [
            "[2, 4, 6, 8, 10]\n",
            "[2, 4]\n",
            "15\n",
            "[1, 2, 3, 4, 2, 3, 4, 5, 3, 4, 5, 6, 4, 5, 6, 7, 5, 6, 7, 8]\n"
          ]
        }
      ]
    },
    {
      "cell_type": "markdown",
      "source": [
        "DATA FRAME"
      ],
      "metadata": {
        "id": "9D4ZC3hL7vKM"
      }
    },
    {
      "cell_type": "code",
      "source": [
        "data = [\n",
        "    (1, \"John\", \"HR\", 5000),\n",
        "    (2, \"Jane\", \"IT\", 8000),\n",
        "    (3, \"Mike\", \"IT\", 6000),\n",
        "    (4, \"Sara\", \"Finance\", 7000),\n",
        "    (5, \"David\", \"HR\", 5500)\n",
        "]\n",
        "\n",
        "from pyspark.sql import SparkSession\n",
        "\n",
        "# Initialize SparkSession\n",
        "spark = SparkSession.builder.appName(\"DataFrameOperations\").getOrCreate()\n",
        "\n",
        "# Define column names\n",
        "columns = [\"ID\", \"Name\", \"Department\", \"Salary\"]\n",
        "\n",
        "# Create a DataFrame from the sample data\n",
        "df = spark.createDataFrame(data, columns)\n",
        "\n",
        "# Show the DataFrame\n",
        "df.show()"
      ],
      "metadata": {
        "colab": {
          "base_uri": "https://localhost:8080/"
        },
        "id": "M7PajAygngic",
        "outputId": "71d998ec-e2a1-4c5f-d955-5a4c92d9071c"
      },
      "execution_count": 11,
      "outputs": [
        {
          "output_type": "stream",
          "name": "stdout",
          "text": [
            "+---+-----+----------+------+\n",
            "| ID| Name|Department|Salary|\n",
            "+---+-----+----------+------+\n",
            "|  1| John|        HR|  5000|\n",
            "|  2| Jane|        IT|  8000|\n",
            "|  3| Mike|        IT|  6000|\n",
            "|  4| Sara|   Finance|  7000|\n",
            "|  5|David|        HR|  5500|\n",
            "+---+-----+----------+------+\n",
            "\n"
          ]
        }
      ]
    },
    {
      "cell_type": "code",
      "source": [
        "df.select(\"Name\", \"Salary\").show()"
      ],
      "metadata": {
        "colab": {
          "base_uri": "https://localhost:8080/"
        },
        "id": "ED7Qqx7W7Xxv",
        "outputId": "af4617e6-88ec-47ec-b59f-20ea6df879bb"
      },
      "execution_count": 13,
      "outputs": [
        {
          "output_type": "stream",
          "name": "stdout",
          "text": [
            "+-----+------+\n",
            "| Name|Salary|\n",
            "+-----+------+\n",
            "| John|  5000|\n",
            "| Jane|  8000|\n",
            "| Mike|  6000|\n",
            "| Sara|  7000|\n",
            "|David|  5500|\n",
            "+-----+------+\n",
            "\n"
          ]
        }
      ]
    },
    {
      "cell_type": "code",
      "source": [
        "df.filter(df[\"salary\"] > 6000) .show()"
      ],
      "metadata": {
        "colab": {
          "base_uri": "https://localhost:8080/"
        },
        "id": "AjDly-nP76Kv",
        "outputId": "4f71b154-c62e-4e1b-c27b-fc294d9c4e81"
      },
      "execution_count": 16,
      "outputs": [
        {
          "output_type": "stream",
          "name": "stdout",
          "text": [
            "+---+----+----------+------+\n",
            "| ID|Name|Department|Salary|\n",
            "+---+----+----------+------+\n",
            "|  2|Jane|        IT|  8000|\n",
            "|  4|Sara|   Finance|  7000|\n",
            "+---+----+----------+------+\n",
            "\n"
          ]
        }
      ]
    },
    {
      "cell_type": "code",
      "source": [
        "from pyspark.sql.functions import col\n",
        "df = df.withColumn(\"Bonus\", col(\"salary\") * 0.1)\n",
        "df.show()"
      ],
      "metadata": {
        "colab": {
          "base_uri": "https://localhost:8080/"
        },
        "id": "LBmMZmiI8ZMR",
        "outputId": "385ab83d-3a73-40ca-ee02-a2f3cb1597f9"
      },
      "execution_count": 18,
      "outputs": [
        {
          "output_type": "stream",
          "name": "stdout",
          "text": [
            "+---+-----+----------+------+-----+\n",
            "| ID| Name|Department|Salary|Bonus|\n",
            "+---+-----+----------+------+-----+\n",
            "|  1| John|        HR|  5000|500.0|\n",
            "|  2| Jane|        IT|  8000|800.0|\n",
            "|  3| Mike|        IT|  6000|600.0|\n",
            "|  4| Sara|   Finance|  7000|700.0|\n",
            "|  5|David|        HR|  5500|550.0|\n",
            "+---+-----+----------+------+-----+\n",
            "\n"
          ]
        }
      ]
    },
    {
      "cell_type": "code",
      "source": [
        "df = df.drop(\"bouns\")\n",
        "df.show()"
      ],
      "metadata": {
        "colab": {
          "base_uri": "https://localhost:8080/"
        },
        "id": "Fh37AedF8sx9",
        "outputId": "413136a8-b5ec-4168-d4bb-de95e33eaf9e"
      },
      "execution_count": 19,
      "outputs": [
        {
          "output_type": "stream",
          "name": "stdout",
          "text": [
            "+---+-----+----------+------+-----+\n",
            "| ID| Name|Department|Salary|Bonus|\n",
            "+---+-----+----------+------+-----+\n",
            "|  1| John|        HR|  5000|500.0|\n",
            "|  2| Jane|        IT|  8000|800.0|\n",
            "|  3| Mike|        IT|  6000|600.0|\n",
            "|  4| Sara|   Finance|  7000|700.0|\n",
            "|  5|David|        HR|  5500|550.0|\n",
            "+---+-----+----------+------+-----+\n",
            "\n"
          ]
        }
      ]
    },
    {
      "cell_type": "code",
      "source": [
        "df = df.withColumnRenamed(\"Salary\",\"Salary_after_tax\")\n",
        "df.show()"
      ],
      "metadata": {
        "colab": {
          "base_uri": "https://localhost:8080/"
        },
        "id": "vncx15zI9CKd",
        "outputId": "d03b9c27-faf1-485d-c6f0-0a1dee133738"
      },
      "execution_count": 20,
      "outputs": [
        {
          "output_type": "stream",
          "name": "stdout",
          "text": [
            "+---+-----+----------+----------------+-----+\n",
            "| ID| Name|Department|Salary_after_tax|Bonus|\n",
            "+---+-----+----------+----------------+-----+\n",
            "|  1| John|        HR|            5000|500.0|\n",
            "|  2| Jane|        IT|            8000|800.0|\n",
            "|  3| Mike|        IT|            6000|600.0|\n",
            "|  4| Sara|   Finance|            7000|700.0|\n",
            "|  5|David|        HR|            5500|550.0|\n",
            "+---+-----+----------+----------------+-----+\n",
            "\n"
          ]
        }
      ]
    },
    {
      "cell_type": "code",
      "source": [
        "df.sort(df[\"salary_after_tax\"].desc()).show()"
      ],
      "metadata": {
        "colab": {
          "base_uri": "https://localhost:8080/"
        },
        "id": "XA8KNlcn9XdT",
        "outputId": "e86ae019-920f-4f3b-a2ee-db46dc48feb5"
      },
      "execution_count": 21,
      "outputs": [
        {
          "output_type": "stream",
          "name": "stdout",
          "text": [
            "+---+-----+----------+----------------+-----+\n",
            "| ID| Name|Department|Salary_after_tax|Bonus|\n",
            "+---+-----+----------+----------------+-----+\n",
            "|  2| Jane|        IT|            8000|800.0|\n",
            "|  4| Sara|   Finance|            7000|700.0|\n",
            "|  3| Mike|        IT|            6000|600.0|\n",
            "|  5|David|        HR|            5500|550.0|\n",
            "|  1| John|        HR|            5000|500.0|\n",
            "+---+-----+----------+----------------+-----+\n",
            "\n"
          ]
        }
      ]
    },
    {
      "cell_type": "code",
      "source": [
        "data_list = df.collect()\n",
        "\n",
        "for row in data_list:\n",
        " print(row)"
      ],
      "metadata": {
        "colab": {
          "base_uri": "https://localhost:8080/"
        },
        "id": "lUlv-RPE9sR1",
        "outputId": "61e96d42-1a7e-41ee-82e3-d0ce5645d66e"
      },
      "execution_count": 28,
      "outputs": [
        {
          "output_type": "stream",
          "name": "stdout",
          "text": [
            "Row(ID=1, Name='John', Department='HR', Salary_after_tax=5000, Bonus=500.0)\n",
            "Row(ID=2, Name='Jane', Department='IT', Salary_after_tax=8000, Bonus=800.0)\n",
            "Row(ID=3, Name='Mike', Department='IT', Salary_after_tax=6000, Bonus=600.0)\n",
            "Row(ID=4, Name='Sara', Department='Finance', Salary_after_tax=7000, Bonus=700.0)\n",
            "Row(ID=5, Name='David', Department='HR', Salary_after_tax=5500, Bonus=550.0)\n"
          ]
        }
      ]
    },
    {
      "cell_type": "markdown",
      "source": [
        "DATA SET"
      ],
      "metadata": {
        "id": "CyOsp-zR_7H6"
      }
    },
    {
      "cell_type": "code",
      "source": [
        "from pyspark.sql import Row\n",
        "from pyspark.sql.functions import col\n",
        "\n",
        "rdd = sc.parallelize([Row(name=\"Alice\", age=25), Row(name=\"Bob\", age=30), Row(name=\"Charlie\", age=35)])\n",
        "df = rdd.toDF()\n",
        "df.filter(col(\"age\") > 25).show()\n",
        "df.select(\"name\").show()"
      ],
      "metadata": {
        "colab": {
          "base_uri": "https://localhost:8080/"
        },
        "id": "3z0PN9xQ-TwK",
        "outputId": "9a69059c-2af1-467c-bafe-c5859b62f7f2"
      },
      "execution_count": 31,
      "outputs": [
        {
          "output_type": "stream",
          "name": "stdout",
          "text": [
            "+-------+---+\n",
            "|   name|age|\n",
            "+-------+---+\n",
            "|    Bob| 30|\n",
            "|Charlie| 35|\n",
            "+-------+---+\n",
            "\n",
            "+-------+\n",
            "|   name|\n",
            "+-------+\n",
            "|  Alice|\n",
            "|    Bob|\n",
            "|Charlie|\n",
            "+-------+\n",
            "\n"
          ]
        }
      ]
    },
    {
      "cell_type": "code",
      "source": [
        "from pyspark.sql import Row\n",
        "from pyspark import SparkContext, SparkConf\n",
        "from pyspark.sql.functions import col\n",
        "\n",
        "# Get the existing SparkContext\n",
        "sc = SparkContext.getOrCreate()\n",
        "rdd = sc.parallelize([Row(name=\"RAJ\", age=23),Row(name=\"Hari\",age=21)])\n",
        "dataset=spark.createDataFrame(rdd)\n",
        "dataset.show()\n",
        "dataset.filter(col(\"age\") > 20).show()\n",
        "dataset.select(\"name\").show()"
      ],
      "metadata": {
        "colab": {
          "base_uri": "https://localhost:8080/"
        },
        "id": "NeYSgzRxAd1k",
        "outputId": "69049d24-88b6-4651-e985-0174ca141bff"
      },
      "execution_count": 32,
      "outputs": [
        {
          "output_type": "stream",
          "name": "stdout",
          "text": [
            "+----+---+\n",
            "|name|age|\n",
            "+----+---+\n",
            "| RAJ| 23|\n",
            "|Hari| 21|\n",
            "+----+---+\n",
            "\n",
            "+----+---+\n",
            "|name|age|\n",
            "+----+---+\n",
            "| RAJ| 23|\n",
            "|Hari| 21|\n",
            "+----+---+\n",
            "\n",
            "+----+\n",
            "|name|\n",
            "+----+\n",
            "| RAJ|\n",
            "|Hari|\n",
            "+----+\n",
            "\n"
          ]
        }
      ]
    },
    {
      "cell_type": "code",
      "source": [
        "from pyspark.sql import Row\n",
        "from pyspark import SparkContext, SparkConf\n",
        "\n",
        "# Initialize SparkConf and SparkContext\n",
        "# conf = SparkConf().setAppName(\"MySparkApp\").setMaster(\"local[*]\")\n",
        "# sc = SparkContext(conf=conf)\n",
        "\n",
        "from pyspark.sql import SparkSession\n",
        "\n",
        "# Initialize SparkSession\n",
        "spark = SparkSession.builder.appName(\"DataFrameOperations\").getOrCreate()\n",
        "\n",
        "sc = spark.SparkContext\n",
        "\n",
        "rdd = sc.parallelize([Row(name=\"Alice\", age=25), Row(name=\"Bob\", age=30)])\n",
        "dataset = spark.createDataset(rdd)\n",
        "dataset.filter(lambda x: x.age > 25)\n",
        "dataset.select(\"name\")"
      ],
      "metadata": {
        "colab": {
          "base_uri": "https://localhost:8080/",
          "height": 216
        },
        "id": "KbnSfJFcBKDA",
        "outputId": "4fa86ec9-9813-422e-c596-d1bf131605e3"
      },
      "execution_count": 33,
      "outputs": [
        {
          "output_type": "error",
          "ename": "AttributeError",
          "evalue": "'SparkSession' object has no attribute 'SparkContext'",
          "traceback": [
            "\u001b[0;31m---------------------------------------------------------------------------\u001b[0m",
            "\u001b[0;31mAttributeError\u001b[0m                            Traceback (most recent call last)",
            "\u001b[0;32m/tmp/ipython-input-33-4038784452.py\u001b[0m in \u001b[0;36m<cell line: 0>\u001b[0;34m()\u001b[0m\n\u001b[1;32m     11\u001b[0m \u001b[0mspark\u001b[0m \u001b[0;34m=\u001b[0m \u001b[0mSparkSession\u001b[0m\u001b[0;34m.\u001b[0m\u001b[0mbuilder\u001b[0m\u001b[0;34m.\u001b[0m\u001b[0mappName\u001b[0m\u001b[0;34m(\u001b[0m\u001b[0;34m\"DataFrameOperations\"\u001b[0m\u001b[0;34m)\u001b[0m\u001b[0;34m.\u001b[0m\u001b[0mgetOrCreate\u001b[0m\u001b[0;34m(\u001b[0m\u001b[0;34m)\u001b[0m\u001b[0;34m\u001b[0m\u001b[0;34m\u001b[0m\u001b[0m\n\u001b[1;32m     12\u001b[0m \u001b[0;34m\u001b[0m\u001b[0m\n\u001b[0;32m---> 13\u001b[0;31m \u001b[0msc\u001b[0m \u001b[0;34m=\u001b[0m \u001b[0mspark\u001b[0m\u001b[0;34m.\u001b[0m\u001b[0mSparkContext\u001b[0m\u001b[0;34m\u001b[0m\u001b[0;34m\u001b[0m\u001b[0m\n\u001b[0m\u001b[1;32m     14\u001b[0m \u001b[0;34m\u001b[0m\u001b[0m\n\u001b[1;32m     15\u001b[0m \u001b[0mrdd\u001b[0m \u001b[0;34m=\u001b[0m \u001b[0msc\u001b[0m\u001b[0;34m.\u001b[0m\u001b[0mparallelize\u001b[0m\u001b[0;34m(\u001b[0m\u001b[0;34m[\u001b[0m\u001b[0mRow\u001b[0m\u001b[0;34m(\u001b[0m\u001b[0mname\u001b[0m\u001b[0;34m=\u001b[0m\u001b[0;34m\"Alice\"\u001b[0m\u001b[0;34m,\u001b[0m \u001b[0mage\u001b[0m\u001b[0;34m=\u001b[0m\u001b[0;36m25\u001b[0m\u001b[0;34m)\u001b[0m\u001b[0;34m,\u001b[0m \u001b[0mRow\u001b[0m\u001b[0;34m(\u001b[0m\u001b[0mname\u001b[0m\u001b[0;34m=\u001b[0m\u001b[0;34m\"Bob\"\u001b[0m\u001b[0;34m,\u001b[0m \u001b[0mage\u001b[0m\u001b[0;34m=\u001b[0m\u001b[0;36m30\u001b[0m\u001b[0;34m)\u001b[0m\u001b[0;34m]\u001b[0m\u001b[0;34m)\u001b[0m\u001b[0;34m\u001b[0m\u001b[0;34m\u001b[0m\u001b[0m\n",
            "\u001b[0;31mAttributeError\u001b[0m: 'SparkSession' object has no attribute 'SparkContext'"
          ]
        }
      ]
    },
    {
      "cell_type": "code",
      "source": [
        "from pyspark.sql import SparkSession\n",
        "\n",
        "spark = SparkSession.builder.appName(\"SparkSQLBasics\").getOrCreate()\n",
        "\n",
        "data = [\n",
        "    (1, \"Alice\", \"Sales\", 3000),\n",
        "    (2, \"Bob\", \"IT\", 4000),\n",
        "    (3, \"Cathy\", \"HR\", 3500),\n",
        "    (4, \"David\", \"Sales\", 4500),\n",
        "    (5, \"Eva\", \"IT\", 4200)\n",
        "]\n",
        "columns = [\"EmpID\", \"Name\", \"Department\", \"Salary\"]\n",
        "\n",
        "df = spark.createDataFrame(data, columns)\n",
        "df.show()"
      ],
      "metadata": {
        "colab": {
          "base_uri": "https://localhost:8080/"
        },
        "id": "sWiGZcmiCXRm",
        "outputId": "05580b4f-04e3-4962-9724-23f615eda0a7"
      },
      "execution_count": 34,
      "outputs": [
        {
          "output_type": "stream",
          "name": "stdout",
          "text": [
            "+-----+-----+----------+------+\n",
            "|EmpID| Name|Department|Salary|\n",
            "+-----+-----+----------+------+\n",
            "|    1|Alice|     Sales|  3000|\n",
            "|    2|  Bob|        IT|  4000|\n",
            "|    3|Cathy|        HR|  3500|\n",
            "|    4|David|     Sales|  4500|\n",
            "|    5|  Eva|        IT|  4200|\n",
            "+-----+-----+----------+------+\n",
            "\n"
          ]
        }
      ]
    },
    {
      "cell_type": "code",
      "source": [
        "rdd = df.rdd\n",
        "print(\"RDD example:\", rdd.map(lambda x:(x.Name,x.Salary)).collect())"
      ],
      "metadata": {
        "colab": {
          "base_uri": "https://localhost:8080/"
        },
        "id": "DdkviK-pCatj",
        "outputId": "037c25fb-5f77-4c89-f025-2546e78e33ad"
      },
      "execution_count": 36,
      "outputs": [
        {
          "output_type": "stream",
          "name": "stdout",
          "text": [
            "RDD example: [('Alice', 3000), ('Bob', 4000), ('Cathy', 3500), ('David', 4500), ('Eva', 4200)]\n"
          ]
        }
      ]
    },
    {
      "cell_type": "code",
      "source": [
        "df.createOrReplaceTempView(\"employees\")\n",
        "result = spark.sql(\"SELECT Name, Salary FROM employees WHERE Salary > 3500\")\n",
        "result.show()"
      ],
      "metadata": {
        "colab": {
          "base_uri": "https://localhost:8080/"
        },
        "id": "dENClAL4C6BV",
        "outputId": "51a1eb56-53cc-411c-8375-8daa668c344b"
      },
      "execution_count": 38,
      "outputs": [
        {
          "output_type": "stream",
          "name": "stdout",
          "text": [
            "+-----+------+\n",
            "| Name|Salary|\n",
            "+-----+------+\n",
            "|  Bob|  4000|\n",
            "|David|  4500|\n",
            "|  Eva|  4200|\n",
            "+-----+------+\n",
            "\n"
          ]
        }
      ]
    },
    {
      "cell_type": "code",
      "source": [
        "df.createOrReplaceTempView(\"employees\")\n",
        "strsql = \"SELECT * FROM employees\"\n",
        "sql_result = spark.sql(strsql)\n",
        "sql_result.show()"
      ],
      "metadata": {
        "colab": {
          "base_uri": "https://localhost:8080/"
        },
        "id": "oD0AOrUfDiZk",
        "outputId": "d9448c92-aef7-4587-ec27-5560d9179dba"
      },
      "execution_count": 39,
      "outputs": [
        {
          "output_type": "stream",
          "name": "stdout",
          "text": [
            "+-----+-----+----------+------+\n",
            "|EmpID| Name|Department|Salary|\n",
            "+-----+-----+----------+------+\n",
            "|    1|Alice|     Sales|  3000|\n",
            "|    2|  Bob|        IT|  4000|\n",
            "|    3|Cathy|        HR|  3500|\n",
            "|    4|David|     Sales|  4500|\n",
            "|    5|  Eva|        IT|  4200|\n",
            "+-----+-----+----------+------+\n",
            "\n"
          ]
        }
      ]
    },
    {
      "cell_type": "code",
      "source": [],
      "metadata": {
        "id": "uwx64stUD5G0"
      },
      "execution_count": null,
      "outputs": []
    }
  ]
}